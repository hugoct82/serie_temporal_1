{
 "cells": [
  {
   "cell_type": "code",
   "execution_count": 1,
   "metadata": {},
   "outputs": [
    {
     "name": "stdout",
     "output_type": "stream",
     "text": [
      "Requirement already satisfied: yfinance in ./.env_st1/lib/python3.10/site-packages (0.2.40)\n",
      "Requirement already satisfied: pandas in ./.env_st1/lib/python3.10/site-packages (2.2.2)\n",
      "Requirement already satisfied: multitasking>=0.0.7 in ./.env_st1/lib/python3.10/site-packages (from yfinance) (0.0.11)\n",
      "Requirement already satisfied: platformdirs>=2.0.0 in ./.env_st1/lib/python3.10/site-packages (from yfinance) (4.2.2)\n",
      "Requirement already satisfied: html5lib>=1.1 in ./.env_st1/lib/python3.10/site-packages (from yfinance) (1.1)\n",
      "Requirement already satisfied: requests>=2.31 in ./.env_st1/lib/python3.10/site-packages (from yfinance) (2.32.3)\n",
      "Requirement already satisfied: frozendict>=2.3.4 in ./.env_st1/lib/python3.10/site-packages (from yfinance) (2.4.4)\n",
      "Requirement already satisfied: pytz>=2022.5 in ./.env_st1/lib/python3.10/site-packages (from yfinance) (2024.1)\n",
      "Requirement already satisfied: lxml>=4.9.1 in ./.env_st1/lib/python3.10/site-packages (from yfinance) (5.2.2)\n",
      "Requirement already satisfied: beautifulsoup4>=4.11.1 in ./.env_st1/lib/python3.10/site-packages (from yfinance) (4.12.3)\n",
      "Requirement already satisfied: numpy>=1.16.5 in ./.env_st1/lib/python3.10/site-packages (from yfinance) (1.26.4)\n",
      "Requirement already satisfied: peewee>=3.16.2 in ./.env_st1/lib/python3.10/site-packages (from yfinance) (3.17.5)\n",
      "Requirement already satisfied: tzdata>=2022.7 in ./.env_st1/lib/python3.10/site-packages (from pandas) (2024.1)\n",
      "Requirement already satisfied: python-dateutil>=2.8.2 in ./.env_st1/lib/python3.10/site-packages (from pandas) (2.9.0.post0)\n",
      "Requirement already satisfied: soupsieve>1.2 in ./.env_st1/lib/python3.10/site-packages (from beautifulsoup4>=4.11.1->yfinance) (2.5)\n",
      "Requirement already satisfied: webencodings in ./.env_st1/lib/python3.10/site-packages (from html5lib>=1.1->yfinance) (0.5.1)\n",
      "Requirement already satisfied: six>=1.9 in ./.env_st1/lib/python3.10/site-packages (from html5lib>=1.1->yfinance) (1.16.0)\n",
      "Requirement already satisfied: urllib3<3,>=1.21.1 in ./.env_st1/lib/python3.10/site-packages (from requests>=2.31->yfinance) (2.2.2)\n",
      "Requirement already satisfied: charset-normalizer<4,>=2 in ./.env_st1/lib/python3.10/site-packages (from requests>=2.31->yfinance) (3.3.2)\n",
      "Requirement already satisfied: certifi>=2017.4.17 in ./.env_st1/lib/python3.10/site-packages (from requests>=2.31->yfinance) (2024.6.2)\n",
      "Requirement already satisfied: idna<4,>=2.5 in ./.env_st1/lib/python3.10/site-packages (from requests>=2.31->yfinance) (3.7)\n"
     ]
    }
   ],
   "source": [
    "! pip install yfinance pandas\n"
   ]
  },
  {
   "cell_type": "code",
   "execution_count": 1,
   "metadata": {},
   "outputs": [
    {
     "name": "stdout",
     "output_type": "stream",
     "text": [
      "                                 Open        High         Low       Close  \\\n",
      "Date                                                                        \n",
      "2014-09-17 00:00:00+00:00  465.864014  468.174011  452.421997  457.334015   \n",
      "2014-09-18 00:00:00+00:00  456.859985  456.859985  413.104004  424.440002   \n",
      "2014-09-19 00:00:00+00:00  424.102997  427.834991  384.532013  394.795990   \n",
      "2014-09-20 00:00:00+00:00  394.673004  423.295990  389.882996  408.903992   \n",
      "2014-09-21 00:00:00+00:00  408.084991  412.425995  393.181000  398.821014   \n",
      "\n",
      "                             Volume  Dividends  Stock Splits  \n",
      "Date                                                          \n",
      "2014-09-17 00:00:00+00:00  21056800        0.0           0.0  \n",
      "2014-09-18 00:00:00+00:00  34483200        0.0           0.0  \n",
      "2014-09-19 00:00:00+00:00  37919700        0.0           0.0  \n",
      "2014-09-20 00:00:00+00:00  36863600        0.0           0.0  \n",
      "2014-09-21 00:00:00+00:00  26580100        0.0           0.0  \n"
     ]
    }
   ],
   "source": [
    "import yfinance as yf\n",
    "import pandas as pd\n",
    "\n",
    "# Descargar datos históricos de Bitcoin desde 2014-01-01\n",
    "btc = yf.Ticker(\"BTC-USD\")\n",
    "hist = btc.history(start=\"2014-01-01\", end=\"2024-06-21\")\n",
    "\n",
    "# Mostrar las primeras filas del DataFrame\n",
    "print(hist.head())\n",
    "\n",
    "# Guardar los datos en un archivo CSV\n",
    "hist.to_csv(\"./btc_historical_data.csv\")\n"
   ]
  },
  {
   "cell_type": "code",
   "execution_count": 4,
   "metadata": {},
   "outputs": [
    {
     "data": {
      "text/plain": [
       "Timestamp('2014-09-17 00:00:00+0000', tz='UTC')"
      ]
     },
     "execution_count": 4,
     "metadata": {},
     "output_type": "execute_result"
    }
   ],
   "source": [
    "hist.index.min()\n"
   ]
  },
  {
   "cell_type": "code",
   "execution_count": 4,
   "metadata": {},
   "outputs": [
    {
     "name": "stdout",
     "output_type": "stream",
     "text": [
      "Requirement already satisfied: yfinance in ./.env_st1/lib/python3.10/site-packages (0.2.40)\n",
      "Collecting fredapi\n",
      "  Downloading fredapi-0.5.2-py3-none-any.whl (11 kB)\n",
      "Requirement already satisfied: pandas in ./.env_st1/lib/python3.10/site-packages (2.2.2)\n",
      "Requirement already satisfied: beautifulsoup4>=4.11.1 in ./.env_st1/lib/python3.10/site-packages (from yfinance) (4.12.3)\n",
      "Requirement already satisfied: numpy>=1.16.5 in ./.env_st1/lib/python3.10/site-packages (from yfinance) (1.26.4)\n",
      "Requirement already satisfied: pytz>=2022.5 in ./.env_st1/lib/python3.10/site-packages (from yfinance) (2024.1)\n",
      "Requirement already satisfied: multitasking>=0.0.7 in ./.env_st1/lib/python3.10/site-packages (from yfinance) (0.0.11)\n",
      "Requirement already satisfied: html5lib>=1.1 in ./.env_st1/lib/python3.10/site-packages (from yfinance) (1.1)\n",
      "Requirement already satisfied: lxml>=4.9.1 in ./.env_st1/lib/python3.10/site-packages (from yfinance) (5.2.2)\n",
      "Requirement already satisfied: platformdirs>=2.0.0 in ./.env_st1/lib/python3.10/site-packages (from yfinance) (4.2.2)\n",
      "Requirement already satisfied: requests>=2.31 in ./.env_st1/lib/python3.10/site-packages (from yfinance) (2.32.3)\n",
      "Requirement already satisfied: peewee>=3.16.2 in ./.env_st1/lib/python3.10/site-packages (from yfinance) (3.17.5)\n",
      "Requirement already satisfied: frozendict>=2.3.4 in ./.env_st1/lib/python3.10/site-packages (from yfinance) (2.4.4)\n",
      "Requirement already satisfied: python-dateutil>=2.8.2 in ./.env_st1/lib/python3.10/site-packages (from pandas) (2.9.0.post0)\n",
      "Requirement already satisfied: tzdata>=2022.7 in ./.env_st1/lib/python3.10/site-packages (from pandas) (2024.1)\n",
      "Requirement already satisfied: soupsieve>1.2 in ./.env_st1/lib/python3.10/site-packages (from beautifulsoup4>=4.11.1->yfinance) (2.5)\n",
      "Requirement already satisfied: webencodings in ./.env_st1/lib/python3.10/site-packages (from html5lib>=1.1->yfinance) (0.5.1)\n",
      "Requirement already satisfied: six>=1.9 in ./.env_st1/lib/python3.10/site-packages (from html5lib>=1.1->yfinance) (1.16.0)\n",
      "Requirement already satisfied: urllib3<3,>=1.21.1 in ./.env_st1/lib/python3.10/site-packages (from requests>=2.31->yfinance) (2.2.2)\n",
      "Requirement already satisfied: certifi>=2017.4.17 in ./.env_st1/lib/python3.10/site-packages (from requests>=2.31->yfinance) (2024.6.2)\n",
      "Requirement already satisfied: charset-normalizer<4,>=2 in ./.env_st1/lib/python3.10/site-packages (from requests>=2.31->yfinance) (3.3.2)\n",
      "Requirement already satisfied: idna<4,>=2.5 in ./.env_st1/lib/python3.10/site-packages (from requests>=2.31->yfinance) (3.7)\n",
      "Installing collected packages: fredapi\n",
      "Successfully installed fredapi-0.5.2\n"
     ]
    }
   ],
   "source": [
    "! pip install yfinance fredapi pandas\n"
   ]
  },
  {
   "cell_type": "code",
   "execution_count": 6,
   "metadata": {},
   "outputs": [
    {
     "name": "stderr",
     "output_type": "stream",
     "text": [
      "[*********************100%%**********************]  1 of 1 completed\n",
      "[*********************100%%**********************]  1 of 1 completed\n",
      "[*********************100%%**********************]  1 of 1 completed"
     ]
    },
    {
     "name": "stdout",
     "output_type": "stream",
     "text": [
      "Interest Rate Data:\n",
      "1954-07-01    0.80\n",
      "1954-08-01    1.22\n",
      "1954-09-01    1.07\n",
      "1954-10-01    0.85\n",
      "1954-11-01    0.83\n",
      "dtype: float64\n",
      "\n",
      "DXY Data:\n",
      "                 Open       High        Low      Close  Adj Close  Volume\n",
      "Date                                                                     \n",
      "2014-01-02  80.139999  80.709999  80.080002  80.629997  80.629997       0\n",
      "2014-01-03  80.559998  80.900002  80.489998  80.790001  80.790001       0\n",
      "2014-01-06  80.870003  80.910004  80.540001  80.650002  80.650002       0\n",
      "2014-01-07  80.680000  80.949997  80.599998  80.830002  80.830002       0\n",
      "2014-01-08  80.910004  81.169998  80.830002  81.040001  81.040001       0\n",
      "\n",
      "Gold Data:\n",
      "                   Open         High          Low        Close    Adj Close  \\\n",
      "Date                                                                          \n",
      "2014-01-02  1204.300049  1227.300049  1204.300049  1225.000000  1225.000000   \n",
      "2014-01-03  1221.699951  1239.000000  1221.699951  1238.400024  1238.400024   \n",
      "2014-01-06  1232.800049  1247.000000  1221.900024  1237.800049  1237.800049   \n",
      "2014-01-07  1239.300049  1242.400024  1226.300049  1229.400024  1229.400024   \n",
      "2014-01-08  1227.500000  1227.500000  1218.599976  1225.300049  1225.300049   \n",
      "\n",
      "            Volume  \n",
      "Date                \n",
      "2014-01-02     209  \n",
      "2014-01-03     142  \n",
      "2014-01-06     127  \n",
      "2014-01-07      73  \n",
      "2014-01-08     189  \n",
      "\n",
      "S&P 500 Data:\n",
      "                   Open         High          Low        Close    Adj Close  \\\n",
      "Date                                                                          \n",
      "2014-01-02  1845.859985  1845.859985  1827.739990  1831.979980  1831.979980   \n",
      "2014-01-03  1833.209961  1838.239990  1829.130005  1831.369995  1831.369995   \n",
      "2014-01-06  1832.310059  1837.160034  1823.729980  1826.770020  1826.770020   \n",
      "2014-01-07  1828.709961  1840.099976  1828.709961  1837.880005  1837.880005   \n",
      "2014-01-08  1837.900024  1840.020020  1831.400024  1837.489990  1837.489990   \n",
      "\n",
      "                Volume  \n",
      "Date                    \n",
      "2014-01-02  3080600000  \n",
      "2014-01-03  2774270000  \n",
      "2014-01-06  3294850000  \n",
      "2014-01-07  3511750000  \n",
      "2014-01-08  3652140000  \n"
     ]
    },
    {
     "name": "stderr",
     "output_type": "stream",
     "text": [
      "\n"
     ]
    }
   ],
   "source": [
    "import yfinance as yf\n",
    "import pandas as pd\n",
    "from fredapi import Fred\n",
    "\n",
    "# Configurar la API de FRED (necesitas una API key de FRED)\n",
    "fred = Fred(api_key='772370b941e285c81364b9a4116b2eb6')\n",
    "\n",
    "# Descargar datos de Tasa de Interés de la FED\n",
    "interest_rate = fred.get_series('FEDFUNDS', start='2014-01-01')\n",
    "\n",
    "# Descargar datos del Índice del Dólar Estadounidense (DXY)\n",
    "dxy = yf.download('DX-Y.NYB', start='2014-01-01', end='2024-06-21')\n",
    "\n",
    "# Descargar datos del Precio del Oro (XAU/USD)\n",
    "gold = yf.download('GC=F', start='2014-01-01', end='2024-06-21')\n",
    "\n",
    "# Descargar datos del Índice S&P 500\n",
    "sp500 = yf.download('^GSPC', start='2014-01-01', end='2024-06-21')\n",
    "\n",
    "# Guardar los datos en archivos CSV\n",
    "interest_rate.to_csv('./interest_rate.csv', header=['Rate'])\n",
    "dxy.to_csv('dxy.csv')\n",
    "gold.to_csv('gold.csv')\n",
    "sp500.to_csv('sp500.csv')\n",
    "\n",
    "# Mostrar las primeras filas de cada dataset\n",
    "print(\"Interest Rate Data:\")\n",
    "print(interest_rate.head())\n",
    "print(\"\\nDXY Data:\")\n",
    "print(dxy.head())\n",
    "print(\"\\nGold Data:\")\n",
    "print(gold.head())\n",
    "print(\"\\nS&P 500 Data:\")\n",
    "print(sp500.head())\n"
   ]
  }
 ],
 "metadata": {
  "kernelspec": {
   "display_name": ".env_st1",
   "language": "python",
   "name": "python3"
  },
  "language_info": {
   "codemirror_mode": {
    "name": "ipython",
    "version": 3
   },
   "file_extension": ".py",
   "mimetype": "text/x-python",
   "name": "python",
   "nbconvert_exporter": "python",
   "pygments_lexer": "ipython3",
   "version": "3.10.12"
  }
 },
 "nbformat": 4,
 "nbformat_minor": 2
}
